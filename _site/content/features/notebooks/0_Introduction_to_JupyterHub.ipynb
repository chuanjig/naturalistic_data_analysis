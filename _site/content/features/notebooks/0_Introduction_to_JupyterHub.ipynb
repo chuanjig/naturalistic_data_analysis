{
 "cells": [
  {
   "cell_type": "markdown",
   "metadata": {},
   "source": [
    "# Introduction to JupyterHub\n",
    "*Written by Jeremy Huckins & Luke Chang*\n",
    "\n",
    "In this course we will primarily be using python to learn about fMRI data analysis. Many of the laboratories can be run on your own individual laptops once you have installed Python (preferably via an [anaconda distribution](https://www.anaconda.com/distribution/). Often we will also be working with neuroimaging datasets, which can have large storage requirements. We will also occasionally be using additional software that will be called by Python (e.g., preprocessing). Finally, some of the analyses we will run can be very computationally expensive and may exceed the capabilities of your laptop.  To meet these needs, Dartmouth's Research Computing has generously provided a dedicated server on their high performance computing system that will allow us to store data, access specialized software, and run analyses. \n",
    "\n",
    "The main portal to access this resource will be through the Jupyterhub interface. This allows you to remotely login in to the server through your browser at https://jupyter.dartmouth.edu using your netid. Please let us know if you are having difficulty logging in as this might mean we need to have an account created for you.\n",
    "\n",
    "A couple of quick notes. You will be sharing this server with your fellow classmates as well as a few other classes on campus. This server has a limited number of resources (currently 16 CPUs and 128gb of RAM). This means that we may not all be able to run our analyses at the same time or the server may slow down or possibly even crash.  To be a good user, please do not leave your notebook running when you aren't using it. This can be accomplished by using the *logout* button when you're done rather than simply closing your laptop or browser. "
   ]
  },
  {
   "cell_type": "markdown",
   "metadata": {},
   "source": [
    "# Today's Goals\n",
    "\n",
    "1. Connect your laptop to your personal DartFS and Psych60 DartFS space\n",
    "\n",
    "2. From a terminal window ssh into jupyter.dartmouth.edu\n",
    "\n",
    "3. Create link to access Psych60 data from jupyterhub\n",
    "\n",
    "4. Add modules so we can use MRI-specific software on the server\n",
    "\n",
    "5. Create a folder for yourself in Psych60/students_output/your_netid \n",
    "\n",
    "6. Run a test notebook from your personal folder"
   ]
  },
  {
   "cell_type": "markdown",
   "metadata": {},
   "source": [
    "# Data Storage via DartFS\n",
    "\n",
    "We will host most of our data and tutorials for the class on DartFS. DartFS is a file storage system that can be accessed by most computers and devices provided that you are on a campus network (or logged in via VPN). You have a home directory and the instructions below are for accessing your home space. If you are enrolled in the class you *should* be authorized to access the Psych 60 space. Please let us know if that is not the case. You need to be connected to Dartmouth network to access DartFS. If you are off campus, use a VPN connection.\n",
    "\n",
    "[Accessing DartFS on a mac](http://rc.dartmouth.edu/index.php/hrf_faq/how-to-access-dartfs-from-a-mac/)\n",
    "\n",
    "[Accessing DartFS on a pc](http://rc.dartmouth.edu/index.php/hrf_faq/how-to-access-dartfs-from-a-pc/)\n",
    "\n",
    "RC Linux systems:      /dartfs-hpc/rc/home/e/d12345e\n",
    "\n",
    "RC Linux systems:      /dartfs/rc/lab/P/Psych60\n",
    "\n",
    "Mac Finder path:  smb://dartfs-hpc.dartmouth.edu/rc/home/e/d12345e\n",
    "\n",
    "Mac Finder path:  smb://dartfs.dartmouth.edu/rc/lab/P/Psych60\n",
    "\n",
    "Windows UNC path:     \\\\dartfs-hpc.dartmouth.edu\\rc\\home\\e\\d12345e\n",
    "\n",
    "Windows UNC path:     \\\\dartfs.dartmouth.edu\\rc\\lab\\P\\Psych60\n",
    "\n",
    "Please see the email you received to determine the location of your home directory."
   ]
  },
  {
   "cell_type": "markdown",
   "metadata": {},
   "source": [
    "## Accessing Additional Software\n",
    "\n",
    "To access addditional software beyond our class Python conda environment, we will need to set up a few things on the research computing servers.  This involves remotely logging in to the server using a terminal and adding a few software modules to your environment profile.\n",
    "\n",
    "Using a terminal window, type the following commands in your terminal window:\n",
    "\n",
    "First, we will create a symbolic link to the course directory in your home directory.\n",
    "\n",
    "`ln –s  /dartfs/rc/lab/P/Psych60  Psych60`\n",
    "\n",
    "This will allow you to access the course folder after logging into jupyterhub.\n",
    "\n",
    "Second, we will create a directory namked with your netid in the `students_output` folder.\n",
    "\n",
    "```\n",
    "cd Psych60/students_output \n",
    "mkdir your_netid  [where \"your_netid\" is your netid]\n",
    "```\n",
    "\n",
    "Third, we will add additional software packages to be available to us on jupyterhub by adding specific modules\n",
    "\n",
    "```\n",
    "module initadd fsl\n",
    "module initadd freesurfer\n",
    "module initadd afni\n",
    "module initadd ants\n",
    "module initadd spm\n",
    "```"
   ]
  },
  {
   "cell_type": "markdown",
   "metadata": {},
   "source": [
    "# Introduction to Jupyter Notebooks\n",
    "\n",
    "Jupyter notebooks are a great way to have your code, comments and results show up inline in a web browser. Work for this class will be done in Jupyter notebooks so you can reference what you have done, see the results and someone else could redo it in the future, similar to a typical lab notebook.\n",
    "\n",
    "Rather than writing and re-writing an entire program, you can write lines of code and run them one at a time. Then, if you need to make a change, you can go back and make your edit and rerun the program again, all in the same window. In our specific case, we are going to use JupyterHub which lets several people access the same computer and data at the same time through a web browser. \n",
    "\n",
    "Finally, you can view examples and share your work with the world very easily through [nbviewer](https://nbviewer.jupyter.org).  One easy trick if you use a cloud storage service like dropbox is to paste a link to the dropbox file in nbviewer.  These links will persist as long as the file remains being shared via dropbox."
   ]
  },
  {
   "cell_type": "markdown",
   "metadata": {},
   "source": [
    "## Using Jupyter Notebooks on a server hosted by Dartmouth\n",
    "\n",
    "If you use our server, all analyses you run will be performed on a server deep in the basement of a building on campus. This is great because you can start an analysis and let it run, checking in on the the results later by reconnecting to the server and opening the notebook you were running. The downside of this setup is that you will be sharing processing power with others, which may lead to some forced coffee breaks.\n",
    "\n",
    "https://jupyter.dartmouth.edu\n",
    "\n",
    "Log in with your netid and it should bring you to your home DartFS space.  Again, *don't forget to **logout** when you are done running your analysis*."
   ]
  },
  {
   "cell_type": "markdown",
   "metadata": {},
   "source": [
    "## Once you have logged in\n",
    "You should see something like this:\n",
    "\n",
    "![](../../images/getting_started/HomeScreen.png)\n",
    "\n",
    "You will likely not have much in there unless you have used your DartFS space before."
   ]
  },
  {
   "cell_type": "markdown",
   "metadata": {},
   "source": [
    "## Try Using the Terminal\n",
    "Click on **New** and then **Terminal** to bring up a terminal window. It should look like this:\n",
    "\n",
    "![](../../images/getting_started/Terminal.png)\n",
    "\n",
    "Type the commands into your terminal:\n",
    "`pwd`, `ls`, `module list`\n",
    "\n",
    "The result should look like this:\n",
    "\n",
    "![](../../images/getting_started/Modules.png)\n",
    "\n",
    "Next click the **Running** tab and and click on **Shutdown** next to terminal. This is how we close sessions that we are finished with."
   ]
  },
  {
   "cell_type": "markdown",
   "metadata": {},
   "source": [
    "## Connecting to Psych60 lab space from within Jupyterhub\n",
    "\n",
    "You should see a Psych60 link under the **Files** tab. If you click on it you **should** be brought to the data and tutorial folder.\n",
    "\n",
    "![](../../images/getting_started/CourseScreen.png)\n",
    "\n",
    "You will find a variety of tutorial notebooks in here along with data that we will use for our first few labs."
   ]
  },
  {
   "cell_type": "markdown",
   "metadata": {},
   "source": [
    "# Opening a notebook on the server\n",
    "\n",
    "Click on Files, then the Psych60 link you created, then navigate to **nipype_tutorial/notebooks** and click on **introduction_jupyter-notebook.ipynb**\n",
    "\n",
    "This will be the first notebook we will work with today. Save this into your folder in **students_output** before running anything (File, Save As)\n",
    "\n",
    "Now work through this sample notebook. \n",
    "\n",
    "When you are finished, click on the **Running** tab in the main jupyter window and then the **Shutdown** button to shutdown the notebook. Close the notebook window and then click on the **logout** button.  \n"
   ]
  },
  {
   "cell_type": "markdown",
   "metadata": {},
   "source": [
    "# Alternative\n",
    "\n",
    "If you use jupyter notebooks on your own computer then you own computer will be doing the processing. If you put your computer to sleep then processing will stop. It will also likely slow down other programs you are using on your computer. I would recommend installing it on your own computer so you can learn more about how to use it, or if you are interested in tinkering with the software or you happen to have a particularly fast/newer computer.\n",
    "\n",
    "Please contact Professor Huckins/Chang if you want any assistance doing this.\n",
    "\n",
    "## Installing Jupyter Notebooks on your own computer\n",
    "\n",
    "1. Install python. We recommend using the [Acaconda Distribution](https://www.continuum.io/downloads)) as it comes with most of the relevant scientific computing packages we will be using.  Be sure to download Python 3.\n",
    "\n",
    "Alternative 1: Install jupyter notebook (it comes with Anaconda)\n",
    "\n",
    "```\n",
    "pip install jupyter\n",
    "```\n",
    "\n",
    "Alternative 2: If you already have python installed:\n",
    "\n",
    "```\n",
    "pip install --upgrade pip\n",
    "```\n",
    "\n",
    "```\n",
    "pip install jupyter\n",
    "```\n",
    "\n",
    "### Starting Jupter Notebooks on your computer\n",
    "Open a terminal, navigate to the directory you want to work from then type `jupyter notebook` or `jupyter lab`\n"
   ]
  },
  {
   "cell_type": "markdown",
   "metadata": {},
   "source": [
    "# Accessing Jupyter Hub and Course Resources from Off-Campus\n",
    "If you are having difficulty logging in to the server or accessing dartfs off campus, we recommend accessing the Dartmouth network via VPN. The current method is to use Duo and authenticate your login using a mobile device. \n",
    "\n",
    "Here are detailed [instructions](https://services.dartmouth.edu/TDClient/KB/ArticleDet?ID=64933) for how to setup VPN on your laptop."
   ]
  },
  {
   "cell_type": "markdown",
   "metadata": {},
   "source": [
    "# Plotting and Atlases\n",
    "For most of our labs we will be using Python to plot our data and results.  However, it is often useful to have a more interactive experience.  We recommend additionally downloading [FSLeyes](https://fsl.fmrib.ox.ac.uk/fsl/fslwiki/FSLeyes), which is a standalone image viewer developed by FSL.  It can be installed by either downloading directly from the website, or using `pip`.\n",
    "\n",
    "`pip install fsleyes` \n",
    "\n",
    "If you are using a mac, you will likely also need to add an X11 window system such as [xQuartz](https://www.xquartz.org/) for the viewer to work properly."
   ]
  },
  {
   "cell_type": "markdown",
   "metadata": {},
   "source": [
    "# References\n",
    "\n",
    "[Jupyter Dashboard Walkthrough](https://365datascience.com/the-jupyter-dashboard-a-walkthrough/)\n",
    "\n",
    "[Jupyter Notebook Manual](https://jupyter.readthedocs.io/en/latest/running.html#running)\n",
    "\n",
    "[Getting Started With Jupyter Notebook](https://medium.com/codingthesmartway-com-blog/getting-started-with-jupyter-notebook-for-python-4e7082bd5d46)\n",
    "\n",
    "[Markdown Cheatsheet](https://github.com/adam-p/markdown-here/wiki/Markdown-Cheatsheet)\n",
    "\n",
    "[Convert jupyter notebook to slides](https://github.com/datitran/jupyter2slides)"
   ]
  },
  {
   "cell_type": "code",
   "execution_count": null,
   "metadata": {},
   "outputs": [],
   "source": []
  }
 ],
 "metadata": {
  "anaconda-cloud": {},
  "kernelspec": {
   "display_name": "Python 3",
   "language": "python",
   "name": "python3"
  },
  "language_info": {
   "codemirror_mode": {
    "name": "ipython",
    "version": 3
   },
   "file_extension": ".py",
   "mimetype": "text/x-python",
   "name": "python",
   "nbconvert_exporter": "python",
   "pygments_lexer": "ipython3",
   "version": "3.7.3"
  },
  "toc": {
   "base_numbering": 1,
   "nav_menu": {},
   "number_sections": true,
   "sideBar": true,
   "skip_h1_title": false,
   "title_cell": "Table of Contents",
   "title_sidebar": "Contents",
   "toc_cell": false,
   "toc_position": {},
   "toc_section_display": true,
   "toc_window_display": false
  }
 },
 "nbformat": 4,
 "nbformat_minor": 2
}
