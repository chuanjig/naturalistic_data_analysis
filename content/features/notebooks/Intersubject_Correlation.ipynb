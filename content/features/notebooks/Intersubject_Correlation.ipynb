{
 "cells": [
  {
   "cell_type": "markdown",
   "metadata": {},
   "source": [
    "# Intersubject Correlations\n",
    "*Written by Luke Chang and Juha Lahnakoski*\n",
    "\n"
   ]
  },
  {
   "cell_type": "code",
   "execution_count": null,
   "metadata": {},
   "outputs": [],
   "source": [
    "%matplotlib inline\n",
    "\n",
    "import os\n",
    "import glob\n",
    "import numpy as np\n",
    "import pandas as pd\n",
    "import matplotlib.pyplot as plt\n",
    "import seaborn as sns\n",
    "from copy import deepcopy\n",
    "from nltools.data import Brain_Data, Design_Matrix, Adjacency\n",
    "from nltools.mask import expand_mask, roi_to_brain\n",
    "from nltools.stats import regress, zscore, fdr, threshold\n",
    "from nltools.file_reader import onsets_to_dm\n",
    "from nltools.external import glover_hrf\n",
    "from nilearn.plotting import view_img, glass_brain, plot_stat_map\n",
    "from sklearn.metrics import pairwise_distances\n",
    "from scipy.stats import binom, ttest_1samp\n",
    "\n",
    "\n",
    "data_dir = '/Volumes/Engram/Data/Sherlock/fmriprep'\n"
   ]
  },
  {
   "cell_type": "markdown",
   "metadata": {},
   "source": [
    "# Extract Average ROI activity\n",
    "\n",
    "\n",
    "We have already done this step for you, but want to show you how to extract average activity within a set of ROIs from a functional parcellation. There are many ways to do this, but here we will write out a separate CSV for each participant's run."
   ]
  },
  {
   "cell_type": "code",
   "execution_count": null,
   "metadata": {},
   "outputs": [],
   "source": [
    "mask = Brain_Data('http://neurovault.org/media/images/2099/Neurosynth%20Parcellation_0.nii.gz')\n",
    "\n",
    "for scan in ['Part1', 'Part2']:\n",
    "    file_list = glob.glob(os.path.join(data_dir, '*', 'func', f'*crop*{scan}*hdf5'))\n",
    "    for f in file_list:\n",
    "        sub = os.path.basename(f).split('_')[0]\n",
    "        print(sub)\n",
    "        data = Brain_Data(f)\n",
    "        roi = data.extract_roi(mask)\n",
    "        pd.DataFrame(roi.T).to_csv(os.path.join(os.path.dirname(f), f\"{sub}_{scan}_Average_ROI_n50.csv\" ), index=False)"
   ]
  },
  {
   "cell_type": "code",
   "execution_count": null,
   "metadata": {},
   "outputs": [],
   "source": [
    "base_dir = '/Users/lukechang/Dropbox/Dartbrains/data/Sherlock'\n",
    "\n",
    "sub_list = [os.path.basename(x).split('_')[0] for x in glob.glob(os.path.join(base_dir,'MovieROI','*Part1*csv'))]\n",
    "sub_list.sort()\n",
    "\n",
    "sub_timeseries = {}\n",
    "for sub in sub_list:\n",
    "    part1 = pd.read_csv(os.path.join(base_dir, 'MovieROI', f'{sub}_task-sherlockPart1_ROI_n50.csv'))\n",
    "    part2 = pd.read_csv(os.path.join(base_dir, 'MovieROI', f'{sub}_task-sherlockPart2_ROI_n50.csv'))\n",
    "    sub_data = part1.append(part2)\n",
    "#     sub_data = part2\n",
    "    sub_data.reset_index(inplace=True, drop=True)\n",
    "    sub_timeseries[sub] = sub_data"
   ]
  },
  {
   "cell_type": "markdown",
   "metadata": {},
   "source": [
    "# Compute Similarity of Time Courses"
   ]
  },
  {
   "cell_type": "markdown",
   "metadata": {},
   "source": [
    "## Average Pairwise Similarity Matrix"
   ]
  },
  {
   "cell_type": "code",
   "execution_count": null,
   "metadata": {},
   "outputs": [],
   "source": [
    "isc = {}\n",
    "for roi in range(50):\n",
    "    sub_rois = {}\n",
    "    for sub in sub_timeseries:\n",
    "        sub_rois[sub] = sub_timeseries[sub].loc[roi]\n",
    "    sub_rois = pd.DataFrame(sub_rois)\n",
    "    time_dist = Adjacency(1 - pairwise_distances(sub_rois.T, metric='correlation'), matrix_type='similarity')\n",
    "    isc[roi] = time_dist.mean()\n",
    "isc_brain = roi_to_brain(pd.Series(isc), mask_x)\n"
   ]
  },
  {
   "cell_type": "code",
   "execution_count": null,
   "metadata": {},
   "outputs": [],
   "source": [
    "\n",
    "isrsa_r = Brain_Data(os.path.join(base_dir, 'analyses', 'ISRSA_Scene_Memory_scene_accuracy_r.nii.gz'))\n",
    "isrsa_p = Brain_Data(os.path.join(base_dir, 'analyses', 'ISRSA_Scene_Memory_scene_accuracy_p.nii.gz'))\n",
    "\n",
    "threshold(isrsa_r, isrsa_p, thr=.005).plot()"
   ]
  },
  {
   "cell_type": "markdown",
   "metadata": {},
   "source": [
    "## Similarity with Average Response"
   ]
  },
  {
   "cell_type": "code",
   "execution_count": null,
   "metadata": {},
   "outputs": [],
   "source": []
  },
  {
   "cell_type": "markdown",
   "metadata": {},
   "source": [
    "# Phase Synchrony"
   ]
  },
  {
   "cell_type": "code",
   "execution_count": null,
   "metadata": {},
   "outputs": [],
   "source": []
  },
  {
   "cell_type": "markdown",
   "metadata": {},
   "source": [
    "# Recommended reading\n",
    "\n",
    "* Haxby, J. V., Guntupalli, J. S., Nastase, S. A., & Feilong, M. (2020). Hyperalignment: Modeling shared information encoded in idiosyncratic cortical topographies. Elife, 9, e56601.\n",
    "\n",
    "\n",
    "* Cohen, J. D., Daw, N., Engelhardt, B., Hasson, U., Li, K., Niv, Y., ... & Willke, T. L. (2017). Computational approaches to fMRI analysis. Nature neuroscience, 20(3), 304.\n",
    "\n",
    "\n",
    "* Chen, P. H. C., Chen, J., Yeshurun, Y., Hasson, U., Haxby, J., & Ramadge, P. J. (2015). A reduced-dimension fMRI shared response model. In Advances in Neural Information Processing Systems (pp. 460-468).\n",
    "\n",
    "\n",
    "* Guntupalli, J. S., Hanke, M., Halchenko, Y. O., Connolly, A. C., Ramadge, P. J., & Haxby, J. V. (2016). A model of representational spaces in human cortex. Cerebral cortex, 26(6), 2919-2934."
   ]
  },
  {
   "cell_type": "markdown",
   "metadata": {},
   "source": [
    "# Contributions\n",
    "\n",
    "Luke Chang developed the initial notebook.\n"
   ]
  },
  {
   "cell_type": "code",
   "execution_count": null,
   "metadata": {},
   "outputs": [],
   "source": []
  }
 ],
 "metadata": {
  "kernelspec": {
   "display_name": "Python 3",
   "language": "python",
   "name": "python3"
  },
  "language_info": {
   "codemirror_mode": {
    "name": "ipython",
    "version": 3
   },
   "file_extension": ".py",
   "mimetype": "text/x-python",
   "name": "python",
   "nbconvert_exporter": "python",
   "pygments_lexer": "ipython3",
   "version": "3.7.7"
  },
  "toc": {
   "base_numbering": 1,
   "nav_menu": {},
   "number_sections": true,
   "sideBar": true,
   "skip_h1_title": false,
   "title_cell": "Table of Contents",
   "title_sidebar": "Contents",
   "toc_cell": false,
   "toc_position": {},
   "toc_section_display": true,
   "toc_window_display": true
  }
 },
 "nbformat": 4,
 "nbformat_minor": 4
}
