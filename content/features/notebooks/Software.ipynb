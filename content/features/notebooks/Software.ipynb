{
 "cells": [
  {
   "cell_type": "markdown",
   "metadata": {},
   "source": [
    "# Software Stack\n",
    "*Written by Luke Chang*\n",
    "\n",
    "For this course, we will be providing hands on tutorials working with real data using open source software written in the Python programming language. We have included some introductory tutorials in the **Background Resources** section to help you get up to speed on using [Python](https://dartbrains.org/features/notebooks/1_Introduction_to_Programming.html) and in particular how to manipulate data with [pandas](https://dartbrains.org/features/notebooks/2_Introduction_to_Pandas.html), [plot](https://dartbrains.org/features/notebooks/3_Introduction_to_Plotting.html) data, and work with [neuroimaging data](https://dartbrains.org/features/notebooks/5_Introduction_to_Neuroimaging_Data.html). All of our tutorials will be provided in the form of a [Jupyter Notebook](https://jupyter.org/). These notebooks are distributed via a [jupyter-book](https://jupyterbook.org/intro.html) and can be downloaded to run on your personal computer.\n",
    "\n",
    "Throughout this course various tutorials will use the following libraries:\n",
    "- [DataLad](https://www.datalad.org/) - data versioning software (see Download Data tutorial for installation instructions and overview)\n",
    "- [NiBabel](https://nipy.org/nibabel/) - a library to read and write common neuroimaging file formats.\n",
    "- [nilearn](https://brainiak.org/) - a neuroimaging toolbox for performing statistical learning\n",
    "- [brainiak](https://brainiak.org/) - a neuroimaging toolbox for performing advanced fMRI analyses\n",
    "- [nltools](https://neurolearn.readthedocs.io/en/latest/) - a neuroimaging toolbox for performing multivariate analyses\n",
    "- [hypertools](https://hypertools.readthedocs.io/en/latest/index.html) - a toolbox for visualizing high dimensional data\n",
    "- [timecorr](https://timecorr.readthedocs.io/en/latest/) - a toolbox for calculating dynamic correlations"
   ]
  },
  {
   "cell_type": "markdown",
   "metadata": {},
   "source": [
    "# Installing Software\n",
    "First, if you have never worked with Python before, we recommend installing Python via the [Anaconda distribution](https://www.anaconda.com/products/individual). This includes many popular packages used in scientific computing. Be sure to install Python 3.7. \n",
    "\n",
    "Package management in Python can be a little tricky. Anaconda has provided their own system called `conda`, packages in the conda repository are usually precompiled to work with your system. However, they only include the most popular libraries. Most of the time you will be using the Python packaging system called `pip`.\n",
    "\n",
    "Once you have installed the Anaconda python distribution, we will use pip to install the packages for this course with `pip install packages`. This will be done in your command line, but you can also run this command by using the `!` cell magic."
   ]
  },
  {
   "cell_type": "code",
   "execution_count": null,
   "metadata": {},
   "outputs": [],
   "source": [
    "!pip install datalad nilearn brainiak nltools hypertools timecorr"
   ]
  },
  {
   "cell_type": "markdown",
   "metadata": {},
   "source": [
    "# Jupyter Notebooks \n",
    "Jupyter notebooks are a great way to have your code, comments and results show up inline in a web browser. Work for this course will be done in Jupyter notebooks so you can reference what you have done, see the results and someone else could redo it in the future, similar to a typical lab notebook.\n",
    "\n",
    "Rather than writing and re-writing an entire program, you can write lines of code and run them one at a time. Then, if you need to make a change, you can go back and make your edit and rerun the program again, all in the same window.\n",
    "\n",
    "Finally, you can view examples and share your work with the world very easily through [nbviewer](https://nbviewer.jupyter.org/). One easy trick if you use a cloud storage service like dropbox is to paste a link to the dropbox file in nbviewer. These links will persist as long as the file remains being shared via dropbox."
   ]
  },
  {
   "cell_type": "code",
   "execution_count": null,
   "metadata": {},
   "outputs": [],
   "source": []
  }
 ],
 "metadata": {
  "kernelspec": {
   "display_name": "Python 3",
   "language": "python",
   "name": "python3"
  },
  "language_info": {
   "codemirror_mode": {
    "name": "ipython",
    "version": 3
   },
   "file_extension": ".py",
   "mimetype": "text/x-python",
   "name": "python",
   "nbconvert_exporter": "python",
   "pygments_lexer": "ipython3",
   "version": "3.7.7"
  },
  "toc": {
   "base_numbering": 1,
   "nav_menu": {},
   "number_sections": true,
   "sideBar": true,
   "skip_h1_title": false,
   "title_cell": "Table of Contents",
   "title_sidebar": "Contents",
   "toc_cell": false,
   "toc_position": {},
   "toc_section_display": true,
   "toc_window_display": true
  }
 },
 "nbformat": 4,
 "nbformat_minor": 4
}
