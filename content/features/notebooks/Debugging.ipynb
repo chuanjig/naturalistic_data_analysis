{
 "cells": [
  {
   "cell_type": "markdown",
   "metadata": {},
   "source": [
    "How to debug code in Python\n",
    "\n",
    "- Exceptions\n",
    "- Tracebacks\n",
    "\n",
    "\n",
    "Helpful resources\n",
    "- https://jakevdp.github.io/PythonDataScienceHandbook/01.06-errors-and-debugging.html\n",
    "- https://pythonprinciples.com/blog/getting-unstuck/\n",
    "- https://github.com/ContextLab/cs-for-psych\n"
   ]
  }
 ],
 "metadata": {
  "kernelspec": {
   "display_name": "Python 3",
   "language": "python",
   "name": "python3"
  },
  "language_info": {
   "codemirror_mode": {
    "name": "ipython",
    "version": 3
   },
   "file_extension": ".py",
   "mimetype": "text/x-python",
   "name": "python",
   "nbconvert_exporter": "python",
   "pygments_lexer": "ipython3",
   "version": "3.7.6"
  },
  "toc": {
   "base_numbering": 1,
   "nav_menu": {},
   "number_sections": true,
   "sideBar": true,
   "skip_h1_title": false,
   "title_cell": "Table of Contents",
   "title_sidebar": "Contents",
   "toc_cell": false,
   "toc_position": {},
   "toc_section_display": true,
   "toc_window_display": false
  }
 },
 "nbformat": 4,
 "nbformat_minor": 4
}
